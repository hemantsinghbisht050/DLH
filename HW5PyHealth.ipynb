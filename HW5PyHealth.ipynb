{
 "cells": [
  {
   "cell_type": "code",
   "execution_count": 1,
   "id": "a6daee67-df5a-47f0-91fc-63b77e267fea",
   "metadata": {
    "nbgrader": {
     "cell_type": "code",
     "checksum": "44b3c85b8902d031ca753f6b4dc55a70",
     "grade": false,
     "grade_id": "cell-106aada15feaef46",
     "locked": false,
     "schema_version": 3,
     "solution": false,
     "task": false
    }
   },
   "outputs": [
    {
     "ename": "ModuleNotFoundError",
     "evalue": "No module named 'torch'",
     "output_type": "error",
     "traceback": [
      "\u001b[1;31m---------------------------------------------------------------------------\u001b[0m",
      "\u001b[1;31mModuleNotFoundError\u001b[0m                       Traceback (most recent call last)",
      "\u001b[1;32m<ipython-input-1-9204e73910c1>\u001b[0m in \u001b[0;36m<module>\u001b[1;34m\u001b[0m\n\u001b[0;32m      2\u001b[0m \u001b[1;32mimport\u001b[0m \u001b[0mrandom\u001b[0m\u001b[1;33m\u001b[0m\u001b[1;33m\u001b[0m\u001b[0m\n\u001b[0;32m      3\u001b[0m \u001b[1;32mimport\u001b[0m \u001b[0mnumpy\u001b[0m \u001b[1;32mas\u001b[0m \u001b[0mnp\u001b[0m\u001b[1;33m\u001b[0m\u001b[1;33m\u001b[0m\u001b[0m\n\u001b[1;32m----> 4\u001b[1;33m \u001b[1;32mimport\u001b[0m \u001b[0mtorch\u001b[0m\u001b[1;33m\u001b[0m\u001b[1;33m\u001b[0m\u001b[0m\n\u001b[0m\u001b[0;32m      5\u001b[0m \u001b[1;32mimport\u001b[0m \u001b[0mos\u001b[0m\u001b[1;33m\u001b[0m\u001b[1;33m\u001b[0m\u001b[0m\n\u001b[0;32m      6\u001b[0m \u001b[1;33m\u001b[0m\u001b[0m\n",
      "\u001b[1;31mModuleNotFoundError\u001b[0m: No module named 'torch'"
     ]
    }
   ],
   "source": [
    "#Cell 1\n",
    "import random\n",
    "import numpy as np\n",
    "import torch\n",
    "import os\n",
    "\n",
    "\n",
    "seed = 1\n",
    "random.seed(seed)\n",
    "np.random.seed(seed)\n",
    "torch.manual_seed(seed)\n",
    "if torch.cuda.is_available():\n",
    "    torch.cuda.manual_seed(seed)\n",
    "    torch.cuda.manual_seed_all(seed)\n",
    "    torch.backends.cudnn.deterministic = True\n",
    "    torch.backends.cudnn.benchmark = False\n",
    "os.environ[\"PYTHONHASHSEED\"] = str(seed)"
   ]
  },
  {
   "cell_type": "code",
   "execution_count": null,
   "id": "81b731db",
   "metadata": {
    "nbgrader": {
     "cell_type": "code",
     "checksum": "d896f0a142bedeeaeec7232951455a24",
     "grade": false,
     "grade_id": "cell-7f7b3cee36e9463b",
     "locked": false,
     "schema_version": 3,
     "solution": false,
     "task": false
    }
   },
   "outputs": [],
   "source": [
    "# Set the MEMORY_FS_ROOT environment variable to a directory with sufficient space\n",
    "#Cell 2\n",
    "os.environ['MEMORY_FS_ROOT'] = \"/tmp/pandarallel_memory\""
   ]
  },
  {
   "cell_type": "code",
   "execution_count": null,
   "id": "64be212a-dc2e-4cee-b2e4-4f415cdcd171",
   "metadata": {
    "nbgrader": {
     "cell_type": "code",
     "checksum": "8a134e8ca952467f09016a62b0f67487",
     "grade": false,
     "grade_id": "cell-cf15eabb50827414",
     "locked": false,
     "schema_version": 3,
     "solution": false,
     "task": false
    }
   },
   "outputs": [],
   "source": [
    "#Cell 3\n",
    "from pyhealth.datasets import MIMIC3Dataset\n",
    "\n",
    "\n",
    "example_dataset = MIMIC3Dataset(\n",
    "    root=\"https://storage.googleapis.com/pyhealth/Synthetic_MIMIC-III_subset/\",\n",
    "    tables=[\"DIAGNOSES_ICD\", \"PROCEDURES_ICD\", \"PRESCRIPTIONS\"],\n",
    "    code_mapping={\"ICD9CM\": \"CCSCM\"},\n",
    ")"
   ]
  },
  {
   "cell_type": "code",
   "execution_count": null,
   "id": "f8e57a76-7a98-4ace-9d6c-d3493bb97d9d",
   "metadata": {
    "nbgrader": {
     "cell_type": "code",
     "checksum": "6cd5d1334cdacf13c011733f8f9b3515",
     "grade": false,
     "grade_id": "cell-75d3714a03344822",
     "locked": false,
     "schema_version": 3,
     "solution": false,
     "task": false
    }
   },
   "outputs": [],
   "source": [
    "# Print the statistics of the dataset\n",
    "#Cell 4\n",
    "\n",
    "example_dataset.stat()"
   ]
  },
  {
   "cell_type": "code",
   "execution_count": null,
   "id": "26723a96-7567-436a-81dd-9a03c24367d1",
   "metadata": {
    "nbgrader": {
     "cell_type": "code",
     "checksum": "7622dbed398ec769e88a7bc29239de1a",
     "grade": false,
     "grade_id": "cell-9fcdd25ddefd9b34",
     "locked": false,
     "schema_version": 3,
     "solution": false,
     "task": false
    }
   },
   "outputs": [],
   "source": [
    "# Access a specific patient by their patient id\n",
    "#Cell 5\n",
    "example_dataset.patients[\"10025\"]"
   ]
  },
  {
   "cell_type": "code",
   "execution_count": null,
   "id": "67721be6-0867-4791-9f0d-9cae027daea9",
   "metadata": {
    "nbgrader": {
     "cell_type": "code",
     "checksum": "a186f432d3f00b8a2dd27c41bc8af184",
     "grade": false,
     "grade_id": "cell-5d0cd02879539e89",
     "locked": false,
     "schema_version": 3,
     "solution": false,
     "task": false
    }
   },
   "outputs": [],
   "source": [
    "# Access a specific visit by its visit id\n",
    "#Cell 6\n",
    "example_dataset.patients[\"10025\"].visits[\"110360\"]"
   ]
  },
  {
   "cell_type": "code",
   "execution_count": null,
   "id": "83bac45a-3c60-4c53-b452-b63b9e976343",
   "metadata": {
    "nbgrader": {
     "cell_type": "code",
     "checksum": "c238c86c32cbb405e0dbaaac45a31924",
     "grade": false,
     "grade_id": "cell-9cf35954e68807bb",
     "locked": false,
     "schema_version": 3,
     "solution": false,
     "task": false
    }
   },
   "outputs": [],
   "source": [
    "# Access all events of a certain type\n",
    "#Cell 7\n",
    "example_dataset.patients[\"10025\"].visits[\"110360\"].get_event_list(\"DIAGNOSES_ICD\")"
   ]
  },
  {
   "cell_type": "code",
   "execution_count": null,
   "id": "98d72ce6",
   "metadata": {
    "deletable": false
   },
   "outputs": [],
   "source": [
    "#Cell 8\n",
    "from pyhealth.datasets import MIMIC3Dataset\n",
    "\n",
    "\n",
    "\"\"\"\n",
    "TODO 1: Process the Synthetic MIMIC-III Data [20 points]\n",
    "\"\"\"\n",
    "mimic3_dataset = None\n",
    "# your code here\n",
    "raise NotImplementedError"
   ]
  },
  {
   "cell_type": "code",
   "execution_count": null,
   "id": "c2a9840e-97c7-41fe-a2c9-f9fbc9774cad",
   "metadata": {
    "nbgrader": {
     "cell_type": "code",
     "checksum": "2ba713b9fb06908f818e0ca094442ad5",
     "grade": false,
     "grade_id": "cell-4bc149790bf43391",
     "locked": false,
     "schema_version": 3,
     "solution": false,
     "task": false
    }
   },
   "outputs": [],
   "source": [
    "#Cell 9\n",
    "from pyhealth.tasks import mortality_prediction_mimic3_fn\n",
    "\n",
    "\n",
    "example_samples = example_dataset.set_task(mortality_prediction_mimic3_fn)"
   ]
  },
  {
   "cell_type": "code",
   "execution_count": null,
   "id": "8c3b24c0-e203-4704-aa04-ba194b12c93e",
   "metadata": {
    "nbgrader": {
     "cell_type": "code",
     "checksum": "38723b66e50578c9d4fbcec96e5b3099",
     "grade": false,
     "grade_id": "cell-bdcd12769003a890",
     "locked": false,
     "schema_version": 3,
     "solution": false,
     "task": false
    }
   },
   "outputs": [],
   "source": [
    "#Cell 10\n",
    "# Print the statistics of the samples\n",
    "example_samples.stat()"
   ]
  },
  {
   "cell_type": "code",
   "execution_count": null,
   "id": "294399fe-c48b-49a1-a5f9-5f8f0f41d81e",
   "metadata": {
    "nbgrader": {
     "cell_type": "code",
     "checksum": "860ee96a6f94787f21c6d0263db9b91e",
     "grade": false,
     "grade_id": "cell-b3a5f161a4b6a131",
     "locked": false,
     "schema_version": 3,
     "solution": false,
     "task": false
    }
   },
   "outputs": [],
   "source": [
    "#Cell 11\n",
    "# Access a specific sample by index\n",
    "print(example_samples[0])"
   ]
  },
  {
   "cell_type": "code",
   "execution_count": null,
   "id": "3bc6eb03-75a3-431f-a21a-c121a81d7f7e",
   "metadata": {
    "nbgrader": {
     "cell_type": "code",
     "checksum": "028ce23e5078bbd2fef49e35fdb61ae5",
     "grade": false,
     "grade_id": "cell-2c82822141bf1a92",
     "locked": false,
     "schema_version": 3,
     "solution": false,
     "task": false
    }
   },
   "outputs": [],
   "source": [
    "#Cell 12\n",
    "# All information available for a specific sample\n",
    "print(example_samples[0].keys())"
   ]
  },
  {
   "cell_type": "code",
   "execution_count": null,
   "id": "6468da6a",
   "metadata": {
    "deletable": false
   },
   "outputs": [],
   "source": [
    "#Cell 13\n",
    "from pyhealth.tasks import readmission_prediction_mimic3_fn\n",
    "\n",
    "\n",
    "\"\"\"\n",
    "TODO 2: Set the Readmission Prediction Task [20 points]\n",
    "\"\"\"\n",
    "mimic3_samples = None\n",
    "# your code here\n",
    "raise NotImplementedError"
   ]
  },
  {
   "cell_type": "code",
   "execution_count": null,
   "id": "1540c0f8",
   "metadata": {
    "nbgrader": {
     "cell_type": "code",
     "checksum": "e4a6c98d60dc89a6f2cb4fdfe7bdb6df",
     "grade": false,
     "grade_id": "cell-bd286f5472f79a15",
     "locked": false,
     "schema_version": 3,
     "solution": false,
     "task": false
    }
   },
   "outputs": [],
   "source": [
    "#Cell 14\n",
    "from pyhealth.datasets import split_by_sample, get_dataloader\n",
    "\n",
    "\n",
    "# Data split\n",
    "example_train_samples, example_val_samples, example_test_samples = split_by_sample(example_samples, [0.6, 0.2, 0.2])\n",
    "\n",
    "# Create dataloaders\n",
    "example_train_loader = get_dataloader(example_train_samples, batch_size=64, shuffle=True)\n",
    "example_val_loader = get_dataloader(example_val_samples, batch_size=64, shuffle=False)\n",
    "example_test_loader = get_dataloader(example_test_samples, batch_size=64, shuffle=False)"
   ]
  },
  {
   "cell_type": "code",
   "execution_count": null,
   "id": "8893293d-22f4-4584-9101-ad73ba975379",
   "metadata": {
    "nbgrader": {
     "cell_type": "code",
     "checksum": "03f140d958fb64c30e1d9a12c57eda2a",
     "grade": false,
     "grade_id": "cell-ffbf814a01158a21",
     "locked": false,
     "schema_version": 3,
     "solution": false,
     "task": false
    }
   },
   "outputs": [],
   "source": [
    "# Data split\n",
    "#Cell 15\n",
    "mimic3_train_samples, mimic3_val_samples, mimic3_test_samples = split_by_sample(mimic3_samples, [0.6, 0.2, 0.2])\n",
    "\n",
    "# Create dataloaders\n",
    "mimic3_train_loader = get_dataloader(mimic3_train_samples, batch_size=64, shuffle=True)\n",
    "mimic3_val_loader = get_dataloader(mimic3_val_samples, batch_size=64, shuffle=False)\n",
    "mimic3_test_loader = get_dataloader(mimic3_test_samples, batch_size=64, shuffle=False)"
   ]
  },
  {
   "cell_type": "code",
   "execution_count": null,
   "id": "15c091e6-d467-4600-988a-e8deadd9f2d4",
   "metadata": {
    "nbgrader": {
     "cell_type": "code",
     "checksum": "e6b2e48df197d445e7ec0e28205b5ab6",
     "grade": false,
     "grade_id": "cell-20971a8b9a7d45ba",
     "locked": false,
     "schema_version": 3,
     "solution": false,
     "task": false
    }
   },
   "outputs": [],
   "source": [
    "# Each sample in the dataset contains the following information\n",
    "#Cell 16\n",
    "print(example_samples[0].keys())"
   ]
  },
  {
   "cell_type": "code",
   "execution_count": null,
   "id": "3b0ac395-6274-4b4b-b932-3955f6a21f6d",
   "metadata": {
    "nbgrader": {
     "cell_type": "code",
     "checksum": "91839abe2920a6718b711cf660bc75e0",
     "grade": false,
     "grade_id": "cell-a114c54562f31f25",
     "locked": false,
     "schema_version": 3,
     "solution": false,
     "task": false
    }
   },
   "outputs": [],
   "source": [
    "#Cell 17\n",
    "from pyhealth.models import RNN\n",
    "\n",
    "\n",
    "example_rnn = RNN(\n",
    "    dataset=example_samples,\n",
    "    feature_keys=[\"conditions\", \"procedures\", \"drugs\"],\n",
    "    label_key=\"label\",\n",
    "    mode=\"binary\",\n",
    ")"
   ]
  },
  {
   "cell_type": "code",
   "execution_count": null,
   "id": "9db72afe-6d87-408a-9e41-781beb6be23b",
   "metadata": {
    "nbgrader": {
     "cell_type": "code",
     "checksum": "854342f7a92d9d8a0807a8910f4b83be",
     "grade": false,
     "grade_id": "cell-8de7e4ef65567d0a",
     "locked": false,
     "schema_version": 3,
     "solution": false,
     "task": false
    }
   },
   "outputs": [],
   "source": [
    "# Architecture of RNN\n",
    "#Cell 18\n",
    "example_rnn"
   ]
  },
  {
   "cell_type": "code",
   "execution_count": null,
   "id": "8a7940ca",
   "metadata": {
    "deletable": false
   },
   "outputs": [],
   "source": [
    "\"\"\"\n",
    "TODO 3: Build A RNN Model [20 Points]\n",
    "\"\"\"\n",
    "#Cell 19\n",
    "mimic3_rnn = None\n",
    "# your code here\n",
    "raise NotImplementedError\n",
    "\n",
    "# Print the architecture\n",
    "print(mimic3_rnn)"
   ]
  },
  {
   "cell_type": "code",
   "execution_count": null,
   "id": "64065974-695c-490f-8230-291d6382e5bf",
   "metadata": {
    "nbgrader": {
     "cell_type": "code",
     "checksum": "a472de8b0fc4cb2eac155cfd4c02e98e",
     "grade": false,
     "grade_id": "cell-188016b08fafdff1",
     "locked": false,
     "schema_version": 3,
     "solution": false,
     "task": false
    }
   },
   "outputs": [],
   "source": [
    "#Cell 20\n",
    "from pyhealth.trainer import Trainer\n",
    "\n",
    "\n",
    "# Initialize the Trainer\n",
    "example_trainer = Trainer(\n",
    "    model=example_rnn,\n",
    "    metrics=[\"pr_auc\", \"roc_auc\"],\n",
    "    device=\"cpu\",\n",
    ")"
   ]
  },
  {
   "cell_type": "code",
   "execution_count": null,
   "id": "0ac428e3-989f-4da0-a19a-31355d439e0a",
   "metadata": {
    "nbgrader": {
     "cell_type": "code",
     "checksum": "e1774f793178dc75d7a8b5813617bdfb",
     "grade": false,
     "grade_id": "cell-916320404466e77f",
     "locked": false,
     "schema_version": 3,
     "solution": false,
     "task": false
    }
   },
   "outputs": [],
   "source": [
    "#Cell 21\n",
    "# Train the model\n",
    "example_trainer.train(\n",
    "    train_dataloader=example_train_loader,  # Training data\n",
    "    val_dataloader=example_val_loader,  # Validation data\n",
    "    epochs=20,  # Number of training epochs\n",
    "    optimizer_class=torch.optim.Adam,  # Optimizer choice\n",
    "    optimizer_params={\"lr\": 0.001, \"weight_decay\": 1e-5},  # Optimizer parameters\n",
    "    max_grad_norm=5.0,  # Gradient clipping\n",
    "    monitor=\"roc_auc\",  # Monitor AUC-ROC for best model selection\n",
    "    monitor_criterion=\"max\",  # Maximize AUC-ROC during training\n",
    "    load_best_model_at_last=True,  # Automatically load the best-performing model\n",
    ")"
   ]
  },
  {
   "cell_type": "code",
   "execution_count": null,
   "id": "f60b636e-43ef-45bd-8f7e-26416f000673",
   "metadata": {
    "deletable": false
   },
   "outputs": [],
   "source": [
    "#Cell 22\n",
    "\"\"\"\n",
    "TODO 4: Train the RNN Model [20 Points]\n",
    "\"\"\"\n",
    "# Set up the Trainer\n",
    "mimic3_trainer = Trainer(\n",
    "    # your code here\n",
    "    raise NotImplementedError\n",
    ")"
   ]
  },
  {
   "cell_type": "code",
   "execution_count": null,
   "id": "e1a06687-734f-4680-99d3-5d887421de58",
   "metadata": {
    "deletable": false
   },
   "outputs": [],
   "source": [
    "#Cell 23\n",
    "\"\"\"\n",
    "TODO 4: Train the RNN Model [20 Points]\n",
    "\"\"\"\n",
    "# Train the model\n",
    "mimic3_trainer.train(\n",
    "    # your code here\n",
    "    raise NotImplementedError\n",
    ")"
   ]
  },
  {
   "cell_type": "code",
   "execution_count": null,
   "id": "ed7cd515",
   "metadata": {
    "nbgrader": {
     "cell_type": "code",
     "checksum": "1b15a4564c44b31fd020374c7a0251a1",
     "grade": false,
     "grade_id": "cell-3985d930b460b047",
     "locked": false,
     "schema_version": 3,
     "solution": false,
     "task": false
    }
   },
   "outputs": [],
   "source": [
    "#Cell 24\n",
    "example_results = example_trainer.evaluate(example_test_loader)\n",
    "print(example_results)"
   ]
  },
  {
   "cell_type": "code",
   "execution_count": null,
   "id": "20c21b6b",
   "metadata": {
    "deletable": false
   },
   "outputs": [],
   "source": [
    "#Cell 25\n",
    "\"\"\"\n",
    "TODO 5: Evaluate the RNN Model [20 points]\n",
    "\"\"\"\n",
    "\n",
    "mimic3_results = None\n",
    "# your code here\n",
    "raise NotImplementedError\n",
    "\n",
    "# Print evaluation metrics\n",
    "print(\"MIMIC-III Test Set Evaluation Metrics:\", mimic3_results)"
   ]
  },
  {
   "cell_type": "code",
   "execution_count": null,
   "id": "78d12b3d-40ab-47a7-ad0d-befca1035803",
   "metadata": {},
   "outputs": [],
   "source": []
  }
 ],
 "metadata": {
  "illinois_payload": {
   "b64z": "",
   "nb_path": "release/HW5PyHealth/HW5PyHealth.ipynb"
  },
  "kernelspec": {
   "display_name": "Python 3",
   "language": "python",
   "name": "python3"
  },
  "language_info": {
   "codemirror_mode": {
    "name": "ipython",
    "version": 3
   },
   "file_extension": ".py",
   "mimetype": "text/x-python",
   "name": "python",
   "nbconvert_exporter": "python",
   "pygments_lexer": "ipython3",
   "version": "3.8.8"
  }
 },
 "nbformat": 4,
 "nbformat_minor": 5
}
